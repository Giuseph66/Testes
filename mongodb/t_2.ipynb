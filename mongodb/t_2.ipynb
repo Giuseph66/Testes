{
 "cells": [
  {
   "cell_type": "code",
   "execution_count": 7,
   "metadata": {},
   "outputs": [],
   "source": [
    "import requests\n",
    "import json\n",
    "url='https://2aa7-168-90-211-194.ngrok-free.app'"
   ]
  },
  {
   "cell_type": "code",
   "execution_count": 11,
   "metadata": {},
   "outputs": [
    {
     "name": "stdout",
     "output_type": "stream",
     "text": [
      "{'_id': '67a4e3206be73e19a68737d9', 'nome': 'Exemplo', 'valor': 123}\n",
      "{'_id': '67a4f49b7a6fecf15859f815', 'nome': 'Maria', 'valor': 100}\n",
      "{'_id': '67a4f5587a6fecf15859f816', 'nome': 'Maria', 'valor': 100}\n",
      "{'_id': '67a4f55a7a6fecf15859f817', 'nome': 'Maria', 'valor': 100}\n"
     ]
    }
   ],
   "source": [
    "response=requests.get(f\"{url}/find\")\n",
    "jsons=response.json()\n",
    "for doc in jsons:\n",
    "    print(doc)"
   ]
  },
  {
   "cell_type": "code",
   "execution_count": 10,
   "metadata": {},
   "outputs": [
    {
     "name": "stdout",
     "output_type": "stream",
     "text": [
      "201\n"
     ]
    }
   ],
   "source": [
    "dados={\n",
    "    \"nome\": \"Maria\",\n",
    "    \"valor\":100\n",
    "}\n",
    "response=requests.post(f\"{url}/insert\",json=dados)\n",
    "print(response.status_code)"
   ]
  }
 ],
 "metadata": {
  "kernelspec": {
   "display_name": "venv",
   "language": "python",
   "name": "python3"
  },
  "language_info": {
   "codemirror_mode": {
    "name": "ipython",
    "version": 3
   },
   "file_extension": ".py",
   "mimetype": "text/x-python",
   "name": "python",
   "nbconvert_exporter": "python",
   "pygments_lexer": "ipython3",
   "version": "3.12.7"
  }
 },
 "nbformat": 4,
 "nbformat_minor": 2
}
